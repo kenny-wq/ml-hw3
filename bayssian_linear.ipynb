{
 "cells": [
  {
   "cell_type": "code",
   "execution_count": 1,
   "metadata": {},
   "outputs": [],
   "source": [
    "import numpy as np\n",
    "from random_data_generator import *\n",
    "from sequential_estimator import *\n",
    "import math\n",
    "from numpy.linalg import inv"
   ]
  },
  {
   "cell_type": "code",
   "execution_count": 2,
   "metadata": {},
   "outputs": [],
   "source": [
    "def gaussian(mu, var, x):\n",
    "    sigma = math.sqrt(var)\n",
    "\n",
    "    a = sigma*math.sqrt(2*math.pi)\n",
    "    b = -(1/2)*(((x-mu)/sigma)**2)\n",
    "\n",
    "    return (1/a)*math.exp(b)"
   ]
  },
  {
   "cell_type": "code",
   "execution_count": 3,
   "metadata": {},
   "outputs": [],
   "source": [
    "def make_design_matrix(x,n):\n",
    "    A = np.ones((1,n))\n",
    "\n",
    "    count = 0\n",
    "    for col in range(n-1,-1,-1):\n",
    "        A[0,col] = x ** count\n",
    "        count += 1\n",
    "    \n",
    "    return A"
   ]
  },
  {
   "cell_type": "code",
   "execution_count": 4,
   "metadata": {},
   "outputs": [],
   "source": [
    "def get_newmu_new_var(b,n,a, new_data, first_round: bool, last_mu, last_var):        \n",
    "    design_matrix = make_design_matrix(new_data[0],n)\n",
    "    a = 1/a\n",
    "\n",
    "    if first_round:\n",
    "        new_mu = inv(np.dot(design_matrix.T,design_matrix)+np.identity(n)*(b/a))\n",
    "        new_mu = np.dot(new_mu,design_matrix.T)\n",
    "        new_mu = new_mu*new_data[1]\n",
    "\n",
    "        new_var = inv(np.dot(a*design_matrix.T,design_matrix)+b*np.identity(n))\n",
    "        #  posterior_covariance = np.linalg.inv(inv_variance * design.T.dot(design) + precision * np.identity(basis))\n",
    "    else:\n",
    "        new_var = inv(last_var) + np.dot(design_matrix.T,design_matrix)*a\n",
    "        new_var = inv(new_var)\n",
    "\n",
    "        new_mu = np.dot(inv(last_var),last_mu) + design_matrix.T*new_data[1]*a\n",
    "        new_mu = np.dot(new_var, new_mu)\n",
    "\n",
    "    return [new_mu, new_var]\n",
    "\n"
   ]
  },
  {
   "cell_type": "code",
   "execution_count": 5,
   "metadata": {},
   "outputs": [],
   "source": [
    "def bayssian_linear(b,n,a,w: list):\n",
    "    last_mu = 0\n",
    "    last_var = 0\n",
    "\n",
    "    count = 0\n",
    "    while True:\n",
    "        new_data = linear_model_data_generator(n,a,w)\n",
    "        if count==0:\n",
    "            [new_mu,new_var] = get_newmu_new_var(1,4,1,new_data,True,None,None)\n",
    "        else:\n",
    "            [new_mu,new_var] = get_newmu_new_var(1,4,1,new_data,False,last_mu, last_var)\n",
    "        \n",
    "        if np.abs(last_mu-new_mu).sum() < 0.000001:\n",
    "            break\n",
    "\n",
    "        last_mu = new_mu\n",
    "        last_var = new_var\n",
    "\n",
    "        count += 1\n",
    "\n",
    "        \n",
    "\n",
    "\n",
    "    return last_mu, last_var"
   ]
  },
  {
   "cell_type": "code",
   "execution_count": 6,
   "metadata": {},
   "outputs": [],
   "source": [
    "mu, var = bayssian_linear(1,4,1,[1,2,3,4])"
   ]
  },
  {
   "cell_type": "code",
   "execution_count": 7,
   "metadata": {},
   "outputs": [
    {
     "data": {
      "text/plain": [
       "array([[3.89407273],\n",
       "       [2.85992347],\n",
       "       [2.04018483],\n",
       "       [1.02100495]])"
      ]
     },
     "execution_count": 7,
     "metadata": {},
     "output_type": "execute_result"
    }
   ],
   "source": [
    "mu"
   ]
  }
 ],
 "metadata": {
  "kernelspec": {
   "display_name": "Python 3",
   "language": "python",
   "name": "python3"
  },
  "language_info": {
   "codemirror_mode": {
    "name": "ipython",
    "version": 3
   },
   "file_extension": ".py",
   "mimetype": "text/x-python",
   "name": "python",
   "nbconvert_exporter": "python",
   "pygments_lexer": "ipython3",
   "version": "3.8.10"
  },
  "orig_nbformat": 4
 },
 "nbformat": 4,
 "nbformat_minor": 2
}
